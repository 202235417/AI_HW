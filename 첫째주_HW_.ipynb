{
  "nbformat": 4,
  "nbformat_minor": 0,
  "metadata": {
    "colab": {
      "provenance": [],
      "authorship_tag": "ABX9TyNWiRhsqz+mwckhf4062ZUo"
    },
    "kernelspec": {
      "name": "python3",
      "display_name": "Python 3"
    },
    "language_info": {
      "name": "python"
    }
  },
  "cells": [
    {
      "cell_type": "markdown",
      "source": [
        "#1.  data와 labels 열개씩 출력하여 값 확인하기"
      ],
      "metadata": {
        "id": "LczRf8ZImeg-"
      }
    },
    {
      "cell_type": "code",
      "execution_count": null,
      "metadata": {
        "id": "sj7eXmxZwicw"
      },
      "outputs": [],
      "source": [
        "from sklearn.datasets import load_breast_cancer\n",
        "\n",
        "import pandas as pd\n",
        "\n",
        "breast_cancer_data = load_breast_cancer()\n",
        "\n",
        "df_data = pd.DataFrame(breast_cancer_data.data)\n",
        "\n",
        "df_labels = pd.DataFrame(breast_cancer_data.target)"
      ]
    },
    {
      "cell_type": "code",
      "source": [
        "print('==========================================data값==========================================\\n', df_data[1:11]) #Data 출력. 구분 짓기 용이하도록 '==data값=='문자열 추가하였음.\n",
        "print(df_data)\n",
        "print('==========================================label값==========================================\\n', df_labels[1:11]) #label 출력."
      ],
      "metadata": {
        "colab": {
          "base_uri": "https://localhost:8080/"
        },
        "id": "vtSdUeJ3xQez",
        "outputId": "f5062f01-3eef-444b-9d31-b30e745f724b"
      },
      "execution_count": null,
      "outputs": [
        {
          "output_type": "stream",
          "name": "stdout",
          "text": [
            "==========================================data값==========================================\n",
            "        0      1       2       3        4        5        6        7       8   \\\n",
            "1   20.57  17.77  132.90  1326.0  0.08474  0.07864  0.08690  0.07017  0.1812   \n",
            "2   19.69  21.25  130.00  1203.0  0.10960  0.15990  0.19740  0.12790  0.2069   \n",
            "3   11.42  20.38   77.58   386.1  0.14250  0.28390  0.24140  0.10520  0.2597   \n",
            "4   20.29  14.34  135.10  1297.0  0.10030  0.13280  0.19800  0.10430  0.1809   \n",
            "5   12.45  15.70   82.57   477.1  0.12780  0.17000  0.15780  0.08089  0.2087   \n",
            "6   18.25  19.98  119.60  1040.0  0.09463  0.10900  0.11270  0.07400  0.1794   \n",
            "7   13.71  20.83   90.20   577.9  0.11890  0.16450  0.09366  0.05985  0.2196   \n",
            "8   13.00  21.82   87.50   519.8  0.12730  0.19320  0.18590  0.09353  0.2350   \n",
            "9   12.46  24.04   83.97   475.9  0.11860  0.23960  0.22730  0.08543  0.2030   \n",
            "10  16.02  23.24  102.70   797.8  0.08206  0.06669  0.03299  0.03323  0.1528   \n",
            "\n",
            "         9   ...     20     21      22      23      24      25      26  \\\n",
            "1   0.05667  ...  24.99  23.41  158.80  1956.0  0.1238  0.1866  0.2416   \n",
            "2   0.05999  ...  23.57  25.53  152.50  1709.0  0.1444  0.4245  0.4504   \n",
            "3   0.09744  ...  14.91  26.50   98.87   567.7  0.2098  0.8663  0.6869   \n",
            "4   0.05883  ...  22.54  16.67  152.20  1575.0  0.1374  0.2050  0.4000   \n",
            "5   0.07613  ...  15.47  23.75  103.40   741.6  0.1791  0.5249  0.5355   \n",
            "6   0.05742  ...  22.88  27.66  153.20  1606.0  0.1442  0.2576  0.3784   \n",
            "7   0.07451  ...  17.06  28.14  110.60   897.0  0.1654  0.3682  0.2678   \n",
            "8   0.07389  ...  15.49  30.73  106.20   739.3  0.1703  0.5401  0.5390   \n",
            "9   0.08243  ...  15.09  40.68   97.65   711.4  0.1853  1.0580  1.1050   \n",
            "10  0.05697  ...  19.19  33.88  123.80  1150.0  0.1181  0.1551  0.1459   \n",
            "\n",
            "         27      28       29  \n",
            "1   0.18600  0.2750  0.08902  \n",
            "2   0.24300  0.3613  0.08758  \n",
            "3   0.25750  0.6638  0.17300  \n",
            "4   0.16250  0.2364  0.07678  \n",
            "5   0.17410  0.3985  0.12440  \n",
            "6   0.19320  0.3063  0.08368  \n",
            "7   0.15560  0.3196  0.11510  \n",
            "8   0.20600  0.4378  0.10720  \n",
            "9   0.22100  0.4366  0.20750  \n",
            "10  0.09975  0.2948  0.08452  \n",
            "\n",
            "[10 rows x 30 columns]\n",
            "        0      1       2       3        4        5        6        7       8   \\\n",
            "0    17.99  10.38  122.80  1001.0  0.11840  0.27760  0.30010  0.14710  0.2419   \n",
            "1    20.57  17.77  132.90  1326.0  0.08474  0.07864  0.08690  0.07017  0.1812   \n",
            "2    19.69  21.25  130.00  1203.0  0.10960  0.15990  0.19740  0.12790  0.2069   \n",
            "3    11.42  20.38   77.58   386.1  0.14250  0.28390  0.24140  0.10520  0.2597   \n",
            "4    20.29  14.34  135.10  1297.0  0.10030  0.13280  0.19800  0.10430  0.1809   \n",
            "..     ...    ...     ...     ...      ...      ...      ...      ...     ...   \n",
            "564  21.56  22.39  142.00  1479.0  0.11100  0.11590  0.24390  0.13890  0.1726   \n",
            "565  20.13  28.25  131.20  1261.0  0.09780  0.10340  0.14400  0.09791  0.1752   \n",
            "566  16.60  28.08  108.30   858.1  0.08455  0.10230  0.09251  0.05302  0.1590   \n",
            "567  20.60  29.33  140.10  1265.0  0.11780  0.27700  0.35140  0.15200  0.2397   \n",
            "568   7.76  24.54   47.92   181.0  0.05263  0.04362  0.00000  0.00000  0.1587   \n",
            "\n",
            "          9   ...      20     21      22      23       24       25      26  \\\n",
            "0    0.07871  ...  25.380  17.33  184.60  2019.0  0.16220  0.66560  0.7119   \n",
            "1    0.05667  ...  24.990  23.41  158.80  1956.0  0.12380  0.18660  0.2416   \n",
            "2    0.05999  ...  23.570  25.53  152.50  1709.0  0.14440  0.42450  0.4504   \n",
            "3    0.09744  ...  14.910  26.50   98.87   567.7  0.20980  0.86630  0.6869   \n",
            "4    0.05883  ...  22.540  16.67  152.20  1575.0  0.13740  0.20500  0.4000   \n",
            "..       ...  ...     ...    ...     ...     ...      ...      ...     ...   \n",
            "564  0.05623  ...  25.450  26.40  166.10  2027.0  0.14100  0.21130  0.4107   \n",
            "565  0.05533  ...  23.690  38.25  155.00  1731.0  0.11660  0.19220  0.3215   \n",
            "566  0.05648  ...  18.980  34.12  126.70  1124.0  0.11390  0.30940  0.3403   \n",
            "567  0.07016  ...  25.740  39.42  184.60  1821.0  0.16500  0.86810  0.9387   \n",
            "568  0.05884  ...   9.456  30.37   59.16   268.6  0.08996  0.06444  0.0000   \n",
            "\n",
            "         27      28       29  \n",
            "0    0.2654  0.4601  0.11890  \n",
            "1    0.1860  0.2750  0.08902  \n",
            "2    0.2430  0.3613  0.08758  \n",
            "3    0.2575  0.6638  0.17300  \n",
            "4    0.1625  0.2364  0.07678  \n",
            "..      ...     ...      ...  \n",
            "564  0.2216  0.2060  0.07115  \n",
            "565  0.1628  0.2572  0.06637  \n",
            "566  0.1418  0.2218  0.07820  \n",
            "567  0.2650  0.4087  0.12400  \n",
            "568  0.0000  0.2871  0.07039  \n",
            "\n",
            "[569 rows x 30 columns]\n",
            "==========================================label값==========================================\n",
            "     0\n",
            "1   0\n",
            "2   0\n",
            "3   0\n",
            "4   0\n",
            "5   0\n",
            "6   0\n",
            "7   0\n",
            "8   0\n",
            "9   0\n",
            "10  0\n"
          ]
        }
      ]
    },
    {
      "cell_type": "markdown",
      "source": [
        "#2. X_train, y_train, X_test, y_test로 훈련과 테스트 데이터를 8:2로 나누기"
      ],
      "metadata": {
        "id": "n-MV5Nv0tjug"
      }
    },
    {
      "cell_type": "markdown",
      "source": [
        "> train_test_split()란?\n",
        "\n",
        "전달되는 리스트나 배열을 비율에 맞게 훈련 세트와 테스트 세트로 나누어 주는 함수. "
      ],
      "metadata": {
        "id": "snfwOR5C-cYR"
      }
    },
    {
      "cell_type": "code",
      "source": [
        "print(breast_cancer_data.target_names)\n",
        "from sklearn.model_selection import train_test_split # train_test_split() : 전달되는 리스트나 배열을 비율에 맞게 훈련 세트와 테스트 세트로 나누어 주는 함수.\n",
        "X_train, X_test, y_train, y_test = train_test_split(df_data, df_labels, train_size=0.8, random_state=1000)"
      ],
      "metadata": {
        "colab": {
          "base_uri": "https://localhost:8080/"
        },
        "id": "382ry-j3w8__",
        "outputId": "a1b20c49-7190-4735-db80-2aae189726dd"
      },
      "execution_count": null,
      "outputs": [
        {
          "output_type": "stream",
          "name": "stdout",
          "text": [
            "['malignant' 'benign']\n"
          ]
        }
      ]
    },
    {
      "cell_type": "code",
      "source": [
        "print(\"X_train.shape :\", X_train.shape)\n",
        "\n",
        "print(\"y_train.shape :\", y_train.shape)\n",
        "\n",
        "print(\"X_test.shape:\", X_test.shape)\n",
        "\n",
        "print(\"y_test.shape:\", y_train.shape)"
      ],
      "metadata": {
        "colab": {
          "base_uri": "https://localhost:8080/"
        },
        "id": "8Z6Ku3Y0817K",
        "outputId": "8da25035-00da-4e4e-b61a-da630e8f0821"
      },
      "execution_count": null,
      "outputs": [
        {
          "output_type": "stream",
          "name": "stdout",
          "text": [
            "X_train.shape : (455, 30)\n",
            "y_train.shape : (455, 1)\n",
            "X_test.shape: (114, 30)\n",
            "y_test.shape: (455, 1)\n"
          ]
        }
      ]
    },
    {
      "cell_type": "markdown",
      "source": [
        "#3. KNN 알고리즘 모델 만들기, K값은 3을 사용"
      ],
      "metadata": {
        "id": "4k4E3M0c8_XV"
      }
    },
    {
      "cell_type": "code",
      "source": [
        "from sklearn.neighbors import KNeighborsClassifier\n",
        "mymodel = KNeighborsClassifier(n_neighbors = 3)\n",
        "mymodel.fit(X_train, y_train)\n",
        "\n",
        "\n",
        "# 예측\n",
        "prediction = mymodel.predict(X_test)\n",
        "mymodel.score(X_test, y_test)"
      ],
      "metadata": {
        "colab": {
          "base_uri": "https://localhost:8080/"
        },
        "id": "eqncP2rM82cs",
        "outputId": "1e8e854c-cc0a-4507-ed07-762040f16826"
      },
      "execution_count": 36,
      "outputs": [
        {
          "output_type": "stream",
          "name": "stderr",
          "text": [
            "/usr/local/lib/python3.8/dist-packages/sklearn/neighbors/_classification.py:215: DataConversionWarning: A column-vector y was passed when a 1d array was expected. Please change the shape of y to (n_samples,), for example using ravel().\n",
            "  return self._fit(X, y)\n"
          ]
        },
        {
          "output_type": "execute_result",
          "data": {
            "text/plain": [
              "0.9473684210526315"
            ]
          },
          "metadata": {},
          "execution_count": 36
        }
      ]
    }
  ]
}